{
  "nbformat": 4,
  "nbformat_minor": 0,
  "metadata": {
    "colab": {
      "name": "report10_informationrecommendation.ipynb",
      "provenance": [],
      "collapsed_sections": [],
      "toc_visible": true
    },
    "kernelspec": {
      "name": "python3",
      "display_name": "Python 3"
    }
  },
  "cells": [
    {
      "cell_type": "markdown",
      "metadata": {
        "id": "RlbzEWGXSVVq"
      },
      "source": [
        "# Recommendation System Final Assignment by Prof. Matsumura\r\n"
      ]
    },
    {
      "cell_type": "markdown",
      "metadata": {
        "id": "PtiJXh-zUego"
      },
      "source": [
        "## Author Information\n",
        "Name: Junjie Xu"
      ]
    },
    {
      "cell_type": "markdown",
      "metadata": {
        "id": "LkkipPzmUfOL"
      },
      "source": [
        "## Contents of Assignment\r\n",
        "\r\n",
        "User-based filtering algorithms, like the 'getRecommendations()' function shown in Lesson 8, are inefficient because they compare the user with all other users every time a recommendation is needed. Follow the steps below to improve this."
      ]
    },
    {
      "cell_type": "markdown",
      "metadata": {
        "id": "O_0tMEg5nGAG"
      },
      "source": [
        "## Step 1\r\n",
        "Here is the code for step 1, calculateSimilarPersons()\r\n",
        "\r\n",
        "(1.\tCreate a function 'calculateSimilarPersons()' that precomputes the similarity of users. The argument of this function is a dictionary of movies and their ratings, and the data structure is the same as the variable 'critics' shown in Lesson 8. The return value is a dictionary of similarities between all users, and the data structure is the same as the return value of 'calculateSimilarItems()' shown in Lesson 9.)\r\n"
      ]
    },
    {
      "cell_type": "markdown",
      "metadata": {
        "id": "CvLiNEoEUY4Q"
      },
      "source": [
        "### calculateSimilarPersons()"
      ]
    },
    {
      "cell_type": "code",
      "metadata": {
        "id": "PeE_uw26devy"
      },
      "source": [
        "# A dictionary of movie critics and their ratings of a small\r\n",
        "# set of movies\r\n",
        "critics={'Lisa Rose': {'Lady in the Water': 2.5, 'Snakes on a Plane': 3.5,\r\n",
        " 'Just My Luck': 3.0, 'Superman Returns': 3.5, 'You, Me and Dupree': 2.5,\r\n",
        " 'The Night Listener': 3.0},\r\n",
        "'Gene Seymour': {'Lady in the Water': 3.0, 'Snakes on a Plane': 3.5,\r\n",
        " 'Just My Luck': 1.5, 'Superman Returns': 5.0, 'The Night Listener': 3.0,\r\n",
        " 'You, Me and Dupree': 3.5},\r\n",
        "'Michael Phillips': {'Lady in the Water': 2.5, 'Snakes on a Plane': 3.0,\r\n",
        " 'Superman Returns': 3.5, 'The Night Listener': 4.0},\r\n",
        "'Claudia Puig': {'Snakes on a Plane': 3.5, 'Just My Luck': 3.0,\r\n",
        " 'The Night Listener': 4.5, 'Superman Returns': 4.0,\r\n",
        " 'You, Me and Dupree': 2.5},\r\n",
        "'Mick LaSalle': {'Lady in the Water': 3.0, 'Snakes on a Plane': 4.0,\r\n",
        " 'Just My Luck': 2.0, 'Superman Returns': 3.0, 'The Night Listener': 3.0,\r\n",
        " 'You, Me and Dupree': 2.0},\r\n",
        "'Jack Matthews': {'Lady in the Water': 3.0, 'Snakes on a Plane': 4.0,\r\n",
        " 'The Night Listener': 3.0, 'Superman Returns': 5.0, 'You, Me and Dupree': 3.5},\r\n",
        "'Toby': {'Snakes on a Plane':4.5,'You, Me and Dupree':1.0,'Superman Returns':4.0}}\r\n",
        "\r\n",
        "from math import sqrt\r\n",
        "\r\n",
        "# Returns a distance-based similarity score for person1 and person2\r\n",
        "def sim_distance(prefs,person1,person2):\r\n",
        "  # Get the list of shared_items\r\n",
        "  si={}\r\n",
        "  for item in prefs[person1]:\r\n",
        "    if item in prefs[person2]:\r\n",
        "       si[item]=1\r\n",
        "\r\n",
        "  # if they have no ratings in common, return 0\r\n",
        "  if len(si)==0: return 0\r\n",
        "\r\n",
        "  # Add up the squares of all the differences\r\n",
        "  sum_of_squares=sum([pow(prefs[person1][item]-prefs[person2][item],2)\r\n",
        "                      for item in si])\r\n",
        "\r\n",
        "  return 1/(1+sqrt(sum_of_squares))\r\n",
        "\r\n",
        "# Returns the Pearson correlation coefficient for p1 and p2\r\n",
        "def sim_pearson(prefs,p1,p2):\r\n",
        "  # Get the list of mutually rated items\r\n",
        "  si={}\r\n",
        "  for item in prefs[p1]:\r\n",
        "    if item in prefs[p2]: si[item]=1\r\n",
        "\r\n",
        "  # Find the number of elements\r\n",
        "  n=len(si)\r\n",
        "\r\n",
        "  # if they have no ratings in common, return 0\r\n",
        "  if n==0: return 0\r\n",
        "\r\n",
        "  # Add up all the preferences\r\n",
        "  sum1=sum([prefs[p1][it] for it in si])\r\n",
        "  sum2=sum([prefs[p2][it] for it in si])\r\n",
        "\r\n",
        "  # Sum up the squares\r\n",
        "  sum1Sq=sum([pow(prefs[p1][it],2) for it in si])\r\n",
        "  sum2Sq=sum([pow(prefs[p2][it],2) for it in si])\r\n",
        "\r\n",
        "  # Sum up the products\r\n",
        "  pSum=sum([prefs[p1][it]*prefs[p2][it] for it in si])\r\n",
        "\r\n",
        "  # Calculate Pearson score\r\n",
        "  num=pSum - (sum1*sum2/n)\r\n",
        "  den=sqrt((sum1Sq - pow(sum1,2)/n)*(sum2Sq - pow(sum2,2)/n))\r\n",
        "  if den==0: return 0\r\n",
        "  r=num/den\r\n",
        "\r\n",
        "  return r\r\n",
        "\r\n",
        "  return 1/(1+sqrt(sum_of_squares)) \r\n",
        "\r\n",
        "def topSimilarityPerson(prefs, person, similarity = sim_pearson):\r\n",
        "  # return a list of Pearson scores between person and other people in prefs in descending order of scores\r\n",
        "  scores=[(similarity(prefs,person,other),other)\r\n",
        "                  for other in prefs if other!=person]\r\n",
        "\r\n",
        "  # Sort the list for all users so that the similarity appears in descending order of scores\r\n",
        "  scores.sort()\r\n",
        "  # reverse (user, score) to (score, user)\r\n",
        "  scores.reverse()\r\n",
        "  return scores\r\n",
        "  \r\n",
        "def calculateSimilarPersons(prefs):\r\n",
        "  # precomputes the similarity of users\r\n",
        "  result={}\r\n",
        "\r\n",
        "  personPrefs=prefs\r\n",
        "  c=0\r\n",
        "  for person in personPrefs:\r\n",
        "    # Status updates for large datasets\r\n",
        "    c+=1\r\n",
        "    if c%100==0: print(\"%d / %d\" % (c,len(personPrefs)))\r\n",
        "    # Find the most similar items to this one\r\n",
        "    scores=topSimilarityPerson(personPrefs,person)\r\n",
        "    result[person]=scores\r\n",
        "  return result\r\n"
      ],
      "execution_count": 1,
      "outputs": []
    },
    {
      "cell_type": "markdown",
      "metadata": {
        "id": "loP1NY21nSrl"
      },
      "source": [
        "## Step 2\r\n",
        "\r\n",
        "Here is the code for step 2 \r\n",
        "\r\n",
        "(2.\tAssign the similarity data between users calculated above to the variable 'personsim' and check the contents of it.)"
      ]
    },
    {
      "cell_type": "markdown",
      "metadata": {
        "id": "bJn4YhY4UXDE"
      },
      "source": [
        "### Assign similarity data between users in 'personsim'"
      ]
    },
    {
      "cell_type": "code",
      "metadata": {
        "colab": {
          "base_uri": "https://localhost:8080/"
        },
        "id": "R3Kci8cEjLNp",
        "outputId": "ca7246c7-9474-4690-ee46-ca38a10e6362"
      },
      "source": [
        "personsim=calculateSimilarPersons(critics)\r\n",
        "personsim"
      ],
      "execution_count": 2,
      "outputs": [
        {
          "output_type": "execute_result",
          "data": {
            "text/plain": [
              "{'Claudia Puig': [(1.0, 'Michael Phillips'),\n",
              "  (0.8934051474415647, 'Toby'),\n",
              "  (0.5669467095138411, 'Mick LaSalle'),\n",
              "  (0.5669467095138396, 'Lisa Rose'),\n",
              "  (0.31497039417435607, 'Gene Seymour'),\n",
              "  (0.02857142857142857, 'Jack Matthews')],\n",
              " 'Gene Seymour': [(0.963795681875635, 'Jack Matthews'),\n",
              "  (0.41176470588235276, 'Mick LaSalle'),\n",
              "  (0.39605901719066977, 'Lisa Rose'),\n",
              "  (0.38124642583151164, 'Toby'),\n",
              "  (0.31497039417435607, 'Claudia Puig'),\n",
              "  (0.20459830184114206, 'Michael Phillips')],\n",
              " 'Jack Matthews': [(0.963795681875635, 'Gene Seymour'),\n",
              "  (0.7470178808339965, 'Lisa Rose'),\n",
              "  (0.66284898035987, 'Toby'),\n",
              "  (0.21128856368212925, 'Mick LaSalle'),\n",
              "  (0.13483997249264842, 'Michael Phillips'),\n",
              "  (0.02857142857142857, 'Claudia Puig')],\n",
              " 'Lisa Rose': [(0.9912407071619299, 'Toby'),\n",
              "  (0.7470178808339965, 'Jack Matthews'),\n",
              "  (0.5940885257860044, 'Mick LaSalle'),\n",
              "  (0.5669467095138396, 'Claudia Puig'),\n",
              "  (0.40451991747794525, 'Michael Phillips'),\n",
              "  (0.39605901719066977, 'Gene Seymour')],\n",
              " 'Michael Phillips': [(1.0, 'Claudia Puig'),\n",
              "  (0.40451991747794525, 'Lisa Rose'),\n",
              "  (0.20459830184114206, 'Gene Seymour'),\n",
              "  (0.13483997249264842, 'Jack Matthews'),\n",
              "  (-0.2581988897471611, 'Mick LaSalle'),\n",
              "  (-1.0, 'Toby')],\n",
              " 'Mick LaSalle': [(0.9244734516419049, 'Toby'),\n",
              "  (0.5940885257860044, 'Lisa Rose'),\n",
              "  (0.5669467095138411, 'Claudia Puig'),\n",
              "  (0.41176470588235276, 'Gene Seymour'),\n",
              "  (0.21128856368212925, 'Jack Matthews'),\n",
              "  (-0.2581988897471611, 'Michael Phillips')],\n",
              " 'Toby': [(0.9912407071619299, 'Lisa Rose'),\n",
              "  (0.9244734516419049, 'Mick LaSalle'),\n",
              "  (0.8934051474415647, 'Claudia Puig'),\n",
              "  (0.66284898035987, 'Jack Matthews'),\n",
              "  (0.38124642583151164, 'Gene Seymour'),\n",
              "  (-1.0, 'Michael Phillips')]}"
            ]
          },
          "metadata": {
            "tags": []
          },
          "execution_count": 2
        }
      ]
    },
    {
      "cell_type": "markdown",
      "metadata": {
        "id": "e9Pso8s0WMId"
      },
      "source": [
        "{'Claudia Puig': [(1.0, 'Michael Phillips'),\r\n",
        "  (0.8934051474415647, 'Toby'),\r\n",
        "  (0.5669467095138411, 'Mick LaSalle'),\r\n",
        "  (0.5669467095138396, 'Lisa Rose'),\r\n",
        "  (0.31497039417435607, 'Gene Seymour'),\r\n",
        "  (0.02857142857142857, 'Jack Matthews')],\r\n",
        " 'Gene Seymour': [(0.963795681875635, 'Jack Matthews'),\r\n",
        "  (0.41176470588235276, 'Mick LaSalle'),\r\n",
        "  (0.39605901719066977, 'Lisa Rose'),\r\n",
        "  (0.38124642583151164, 'Toby'),\r\n",
        "  (0.31497039417435607, 'Claudia Puig'),\r\n",
        "  (0.20459830184114206, 'Michael Phillips')],\r\n",
        " 'Jack Matthews': [(0.963795681875635, 'Gene Seymour'),\r\n",
        "  (0.7470178808339965, 'Lisa Rose'),\r\n",
        "  (0.66284898035987, 'Toby'),\r\n",
        "  (0.21128856368212925, 'Mick LaSalle'),\r\n",
        "  (0.13483997249264842, 'Michael Phillips'),\r\n",
        "  (0.02857142857142857, 'Claudia Puig')],\r\n",
        " 'Lisa Rose': [(0.9912407071619299, 'Toby'),\r\n",
        "  (0.7470178808339965, 'Jack Matthews'),\r\n",
        "  (0.5940885257860044, 'Mick LaSalle'),\r\n",
        "  (0.5669467095138396, 'Claudia Puig'),\r\n",
        "  (0.40451991747794525, 'Michael Phillips'),\r\n",
        "  (0.39605901719066977, 'Gene Seymour')],\r\n",
        " 'Michael Phillips': [(1.0, 'Claudia Puig'),\r\n",
        "  (0.40451991747794525, 'Lisa Rose'),\r\n",
        "  (0.20459830184114206, 'Gene Seymour'),\r\n",
        "  (0.13483997249264842, 'Jack Matthews'),\r\n",
        "  (-0.2581988897471611, 'Mick LaSalle'),\r\n",
        "  (-1.0, 'Toby')],\r\n",
        " 'Mick LaSalle': [(0.9244734516419049, 'Toby'),\r\n",
        "  (0.5940885257860044, 'Lisa Rose'),\r\n",
        "  (0.5669467095138411, 'Claudia Puig'),\r\n",
        "  (0.41176470588235276, 'Gene Seymour'),\r\n",
        "  (0.21128856368212925, 'Jack Matthews'),\r\n",
        "  (-0.2581988897471611, 'Michael Phillips')],\r\n",
        " 'Toby': [(0.9912407071619299, 'Lisa Rose'),\r\n",
        "  (0.9244734516419049, 'Mick LaSalle'),\r\n",
        "  (0.8934051474415647, 'Claudia Puig'),\r\n",
        "  (0.66284898035987, 'Jack Matthews'),\r\n",
        "  (0.38124642583151164, 'Gene Seymour'),\r\n",
        "  (-1.0, 'Michael Phillips')]}"
      ]
    },
    {
      "cell_type": "markdown",
      "metadata": {
        "id": "9XnhATVKnqhb"
      },
      "source": [
        "## Step 3\r\n",
        "\r\n",
        "Here is the code for step 3\r\n",
        "\r\n",
        "(3.\tCreate the function 'getRecommendations2()' by modifying the function 'getRecommendations()' as follows.\r\n",
        "o\tAdd the similarity data between users as an argument, and do not calculate the similarity between users in this function.\r\n",
        "o\tOnly the five users with the highest similarity will be used to generate recommendations.)\r\n"
      ]
    },
    {
      "cell_type": "markdown",
      "metadata": {
        "id": "HJeT36pSUUD3"
      },
      "source": [
        "### getRecommendations2()"
      ]
    },
    {
      "cell_type": "code",
      "metadata": {
        "id": "Lp-wEJDhnp22"
      },
      "source": [
        "# Gets recommendations for a person by using a weighted average\r\n",
        "# of every other user's rankings\r\n",
        "def getRecommendations2(prefs,personsim,person):\r\n",
        "  totals = {}\r\n",
        "  simSums = {}\r\n",
        "  topPersonsim = dict(zip([user[1] for user in personsim[person]], [user[0] for user in personsim[person]]))\r\n",
        "\r\n",
        "\r\n",
        "  for other in prefs:\r\n",
        "    for item in prefs[other]:\r\n",
        "\r\n",
        "      # only score movies I haven't seen yet\r\n",
        "      if item not in prefs[person] or prefs[person][item]==0:\r\n",
        "        # Similarity * Score\r\n",
        "        totals.setdefault(item,0)\r\n",
        "        sim = topPersonsim[other]\r\n",
        "        # ignore scores of zero or lower\r\n",
        "        if sim <= 0 : \r\n",
        "          sim = 0\r\n",
        "        totals[item]+=prefs[other][item]*sim\r\n",
        "        # Sum of similarities\r\n",
        "        simSums.setdefault(item,0)\r\n",
        "        simSums[item]+=sim\r\n",
        "\r\n",
        "  # Create the normalized list\r\n",
        "  rankings=[((total/simSums[item],item) if simSums[item] != 0 else (0,item)) for item,total in totals.items()]\r\n",
        "\r\n",
        "  # Return the sorted list\r\n",
        "  rankings.sort()\r\n",
        "  rankings.reverse()\r\n",
        "  return rankings"
      ],
      "execution_count": 3,
      "outputs": []
    },
    {
      "cell_type": "code",
      "metadata": {
        "colab": {
          "base_uri": "https://localhost:8080/"
        },
        "id": "zXM0ttkcsxGT",
        "outputId": "45055275-80ff-4ea1-a04b-6a00ba235616"
      },
      "source": [
        "print(getRecommendations2(critics, personsim, 'Toby'))"
      ],
      "execution_count": 4,
      "outputs": [
        {
          "output_type": "stream",
          "text": [
            "[(3.3477895267131017, 'The Night Listener'), (2.8325499182641614, 'Lady in the Water'), (2.530980703765565, 'Just My Luck')]\n"
          ],
          "name": "stdout"
        }
      ]
    },
    {
      "cell_type": "markdown",
      "metadata": {
        "id": "WnVLdC7-WHkk"
      },
      "source": [
        "[(3.3477895267131017, 'The Night Listener'), (2.8325499182641614, 'Lady in the Water'), (2.530980703765565, 'Just My Luck')]"
      ]
    },
    {
      "cell_type": "markdown",
      "metadata": {
        "id": "UplvPUWcn4QB"
      },
      "source": [
        "## Step 4\r\n",
        "Here is the code for step 4\r\n",
        "(4.\tLoad the MovieLens dataset used in Lesson 9, assign it to the variable 'critics', and check the behavior of 'calculateSimilarPersons()' and 'getRecommendations2()'.)"
      ]
    },
    {
      "cell_type": "markdown",
      "metadata": {
        "id": "cu8QxiLqHeWQ"
      },
      "source": [
        "### Download and load dataset directly from MovieLens's website to colab\r\n",
        "Note that in my step 4, this code loads MovieLens dataset in colab without mount the drive"
      ]
    },
    {
      "cell_type": "code",
      "metadata": {
        "colab": {
          "base_uri": "https://localhost:8080/"
        },
        "id": "I-AmEZQ-AU58",
        "outputId": "1f2e03be-a023-4b30-8472-e28363b20007"
      },
      "source": [
        "# download MovieLens dataset\r\n",
        "!wget \"http://files.grouplens.org/datasets/movielens/ml-latest-small.zip\" -O ml-latest-small.zip\r\n",
        "!unzip \"ml-latest-small.zip\"\r\n",
        "\r\n",
        "\r\n",
        "# load MovieLens dataset\r\n",
        "import csv\r\n",
        "def loadMovieLens(path='/content/ml-latest-small'):\r\n",
        "\r\n",
        "  # Get movie titles\r\n",
        "  movies={}\r\n",
        "  f1=open(path+'/movies.csv')\r\n",
        "  reader1=csv.reader(f1)\r\n",
        "  header1=next(reader1)\r\n",
        "  for row in reader1:\r\n",
        "    (movieId,title,_)=row\r\n",
        "    movies[movieId]=title\r\n",
        "  f1.close()\r\n",
        "\r\n",
        "  # Load data\r\n",
        "  f2=open(path+'/ratings.csv')\r\n",
        "  reader2=csv.reader(f2)\r\n",
        "  header2=next(reader2)\r\n",
        "  prefs={}\r\n",
        "  for row in reader2:\r\n",
        "    (userId,movieId,rating,timestamp)=row\r\n",
        "    prefs.setdefault(userId,{})\r\n",
        "    prefs[userId][movies[movieId]]=float(rating)\r\n",
        "  return prefs\r\n",
        "\r\n",
        "\r\n"
      ],
      "execution_count": 5,
      "outputs": [
        {
          "output_type": "stream",
          "text": [
            "--2020-12-31 05:46:35--  http://files.grouplens.org/datasets/movielens/ml-latest-small.zip\n",
            "Resolving files.grouplens.org (files.grouplens.org)... 128.101.65.152\n",
            "Connecting to files.grouplens.org (files.grouplens.org)|128.101.65.152|:80... connected.\n",
            "HTTP request sent, awaiting response... 200 OK\n",
            "Length: 978202 (955K) [application/zip]\n",
            "Saving to: ‘ml-latest-small.zip’\n",
            "\n",
            "ml-latest-small.zip 100%[===================>] 955.28K  --.-KB/s    in 0.1s    \n",
            "\n",
            "2020-12-31 05:46:35 (7.64 MB/s) - ‘ml-latest-small.zip’ saved [978202/978202]\n",
            "\n",
            "Archive:  ml-latest-small.zip\n",
            "   creating: ml-latest-small/\n",
            "  inflating: ml-latest-small/links.csv  \n",
            "  inflating: ml-latest-small/tags.csv  \n",
            "  inflating: ml-latest-small/ratings.csv  \n",
            "  inflating: ml-latest-small/README.txt  \n",
            "  inflating: ml-latest-small/movies.csv  \n"
          ],
          "name": "stdout"
        }
      ]
    },
    {
      "cell_type": "markdown",
      "metadata": {
        "id": "Dvtg6sePWEqP"
      },
      "source": [
        "--2020-12-31 05:46:35--  http://files.grouplens.org/datasets/movielens/ml-latest-small.zip\r\n",
        "Resolving files.grouplens.org (files.grouplens.org)... 128.101.65.152\r\n",
        "Connecting to files.grouplens.org (files.grouplens.org)|128.101.65.152|:80... connected.\r\n",
        "HTTP request sent, awaiting response... 200 OK\r\n",
        "Length: 978202 (955K) [application/zip]\r\n",
        "Saving to: ‘ml-latest-small.zip’\r\n",
        "\r\n",
        "ml-latest-small.zip 100%[===================>] 955.28K  --.-KB/s    in 0.1s    \r\n",
        "\r\n",
        "2020-12-31 05:46:35 (7.64 MB/s) - ‘ml-latest-small.zip’ saved [978202/978202]\r\n",
        "\r\n",
        "Archive:  ml-latest-small.zip\r\n",
        "   creating: ml-latest-small/\r\n",
        "  inflating: ml-latest-small/links.csv  \r\n",
        "  inflating: ml-latest-small/tags.csv  \r\n",
        "  inflating: ml-latest-small/ratings.csv  \r\n",
        "  inflating: ml-latest-small/README.txt  \r\n",
        "  inflating: ml-latest-small/movies.csv "
      ]
    },
    {
      "cell_type": "code",
      "metadata": {
        "id": "iQb9wMaIKqqw"
      },
      "source": [
        "prefs=loadMovieLens()"
      ],
      "execution_count": 6,
      "outputs": []
    },
    {
      "cell_type": "markdown",
      "metadata": {
        "id": "P8ngShIpHarS"
      },
      "source": [
        "### test calculateSimilarPersons()"
      ]
    },
    {
      "cell_type": "code",
      "metadata": {
        "id": "_GFLb7jrHSfv"
      },
      "source": [
        "moviePersonsim=calculateSimilarPersons(prefs)\r\n",
        "moviePersonsim"
      ],
      "execution_count": null,
      "outputs": []
    },
    {
      "cell_type": "markdown",
      "metadata": {
        "id": "8anlk8yxJK8J"
      },
      "source": [
        "### test getRecommendations2()"
      ]
    },
    {
      "cell_type": "code",
      "metadata": {
        "colab": {
          "base_uri": "https://localhost:8080/"
        },
        "id": "jTYQwDyFJPaF",
        "outputId": "ae246542-efca-4009-bb68-e4a1d5fa8331"
      },
      "source": [
        "getRecommendations2(prefs, moviePersonsim, '87')[0:30]"
      ],
      "execution_count": 11,
      "outputs": [
        {
          "output_type": "execute_result",
          "data": {
            "text/plain": [
              "[(5.0, 'Zeitgeist: Moving Forward (2011)'),\n",
              " (5.0, 'Wow! A Talking Fish! (1983)'),\n",
              " (5.0, 'Wonder Woman (2009)'),\n",
              " (5.0, 'Woman Under the Influence, A (1974)'),\n",
              " (5.0, 'Woman Is a Woman, A (femme est une femme, Une) (1961)'),\n",
              " (5.0, 'Winter in Prostokvashino (1984)'),\n",
              " (5.0, 'Winnie the Pooh and the Day of Concern (1972)'),\n",
              " (5.0, 'Winnie the Pooh Goes Visiting (1971)'),\n",
              " (5.0, 'Winnie Pooh (1969)'),\n",
              " (5.0, 'Wings, Legs and Tails (1986)'),\n",
              " (5.0, 'When Worlds Collide (1951)'),\n",
              " (5.0, 'What Men Talk About (2010)'),\n",
              " (5.0, 'Watermark (2014)'),\n",
              " (5.0, 'War for the Planet of the Apes (2017)'),\n",
              " (5.0, 'Vovka in the Kingdom of Far Far Away (1965)'),\n",
              " (5.0, 'Very Potter Sequel, A (2010)'),\n",
              " (5.0, 'Vampire in Venice (Nosferatu a Venezia) (Nosferatu in Venice) (1986)'),\n",
              " (5.0, 'Vagabond (Sans toit ni loi) (1985)'),\n",
              " (5.0, 'Vacations in Prostokvashino (1980)'),\n",
              " (5.0, 'Unfaithfully Yours (1948)'),\n",
              " (5.0, \"Tyler Perry's I Can Do Bad All by Myself (2009)\"),\n",
              " (5.0, 'Two Family House (2000)'),\n",
              " (5.0, 'True Stories (1986)'),\n",
              " (5.0, 'Troll 2 (1990)'),\n",
              " (5.0, 'Travels of an Ant (1983)'),\n",
              " (5.0, 'Trailer Park Boys (1999)'),\n",
              " (5.0, 'Tokyo Tribe (2014)'),\n",
              " (5.0, 'Three from Prostokvashino (1978)'),\n",
              " (5.0, 'Thousand Clowns, A (1965)'),\n",
              " (5.0, 'There Once Was a Dog (1982)')]"
            ]
          },
          "metadata": {
            "tags": []
          },
          "execution_count": 11
        }
      ]
    },
    {
      "cell_type": "markdown",
      "metadata": {
        "id": "QwLT2552V8q4"
      },
      "source": [
        "[(5.0, 'Zeitgeist: Moving Forward (2011)'),\r\n",
        " (5.0, 'Wow! A Talking Fish! (1983)'),\r\n",
        " (5.0, 'Wonder Woman (2009)'),\r\n",
        " (5.0, 'Woman Under the Influence, A (1974)'),\r\n",
        " (5.0, 'Woman Is a Woman, A (femme est une femme, Une) (1961)'),\r\n",
        " (5.0, 'Winter in Prostokvashino (1984)'),\r\n",
        " (5.0, 'Winnie the Pooh and the Day of Concern (1972)'),\r\n",
        " (5.0, 'Winnie the Pooh Goes Visiting (1971)'),\r\n",
        " (5.0, 'Winnie Pooh (1969)'),\r\n",
        " (5.0, 'Wings, Legs and Tails (1986)'),\r\n",
        " (5.0, 'When Worlds Collide (1951)'),\r\n",
        " (5.0, 'What Men Talk About (2010)'),\r\n",
        " (5.0, 'Watermark (2014)'),\r\n",
        " (5.0, 'War for the Planet of the Apes (2017)'),\r\n",
        " (5.0, 'Vovka in the Kingdom of Far Far Away (1965)'),\r\n",
        " (5.0, 'Very Potter Sequel, A (2010)'),\r\n",
        " (5.0, 'Vampire in Venice (Nosferatu a Venezia) (Nosferatu in Venice) (1986)'),\r\n",
        " (5.0, 'Vagabond (Sans toit ni loi) (1985)'),\r\n",
        " (5.0, 'Vacations in Prostokvashino (1980)'),\r\n",
        " (5.0, 'Unfaithfully Yours (1948)'),\r\n",
        " (5.0, \"Tyler Perry's I Can Do Bad All by Myself (2009)\"),\r\n",
        " (5.0, 'Two Family House (2000)'),\r\n",
        " (5.0, 'True Stories (1986)'),\r\n",
        " (5.0, 'Troll 2 (1990)'),\r\n",
        " (5.0, 'Travels of an Ant (1983)'),\r\n",
        " (5.0, 'Trailer Park Boys (1999)'),\r\n",
        " (5.0, 'Tokyo Tribe (2014)'),\r\n",
        " (5.0, 'Three from Prostokvashino (1978)'),\r\n",
        " (5.0, 'Thousand Clowns, A (1965)'),\r\n",
        " (5.0, 'There Once Was a Dog (1982)')]"
      ]
    }
  ]
}